{
 "cells": [
  {
   "cell_type": "code",
   "execution_count": 8,
   "id": "50213917-bd04-474b-be9c-5fbe17a1afde",
   "metadata": {},
   "outputs": [
    {
     "name": "stdin",
     "output_type": "stream",
     "text": [
      "Enter your name:  gisele\n",
      "Enter your year of birth:  -2\n"
     ]
    },
    {
     "name": "stdout",
     "output_type": "stream",
     "text": [
      "The year of birth can't be a negative !!\n"
     ]
    },
    {
     "name": "stdin",
     "output_type": "stream",
     "text": [
      "Enter your year of birth:  2010\n"
     ]
    },
    {
     "name": "stdout",
     "output_type": "stream",
     "text": [
      "gisele, your age is: 15\n"
     ]
    }
   ],
   "source": [
    "name = input(\"Enter your name: \")\n",
    "\n",
    "def calculate():\n",
    "    while True:\n",
    "        dob = int(input(\"Enter your year of birth: \"))\n",
    "        current_year = 2025\n",
    "        if dob > current_year:\n",
    "            print(f\"The year of birth can't be greater than the current year!!\")\n",
    "            continue\n",
    "        if dob < 0:\n",
    "            print(f\"The year of birth can't be negative!!\")\n",
    "            continue\n",
    "        age = current_year - dob\n",
    "        return age\n",
    "\n",
    "age = calculate()\n",
    "print(f\"{name}, your age is: {age}\")"
   ]
  },
  {
   "cell_type": "code",
   "execution_count": 10,
   "id": "fb6d0a30-5993-4ad5-b17b-4c7ed569d1aa",
   "metadata": {},
   "outputs": [
    {
     "name": "stdin",
     "output_type": "stream",
     "text": [
      "Enter a word or phrase:  ifi\n"
     ]
    },
    {
     "name": "stdout",
     "output_type": "stream",
     "text": [
      "Yes, it's a palindrome!\n"
     ]
    }
   ],
   "source": [
    "def check_palindrome():\n",
    "    user_input = input(\"Enter a word or phrase: \").strip()\n",
    "    \n",
    "    if not user_input: \n",
    "        print(\"Error: Please enter something!\")\n",
    "        return\n",
    "    \n",
    "    cleaned = ''.join(char.lower() for char in user_input if char.isalnum())\n",
    "    \n",
    "    if cleaned == cleaned[::-1]:\n",
    "        print(\"Yes, it's a palindrome!\")\n",
    "    else:\n",
    "        print(\"No, it's not a palindrome.\")\n",
    "\n",
    "\n",
    "check_palindrome()"
   ]
  },
  {
   "cell_type": "code",
   "execution_count": null,
   "id": "a93fe0a7-6520-4e44-9dd1-65b615852f3a",
   "metadata": {},
   "outputs": [],
   "source": []
  }
 ],
 "metadata": {
  "kernelspec": {
   "display_name": "Python 3 (ipykernel)",
   "language": "python",
   "name": "python3"
  },
  "language_info": {
   "codemirror_mode": {
    "name": "ipython",
    "version": 3
   },
   "file_extension": ".py",
   "mimetype": "text/x-python",
   "name": "python",
   "nbconvert_exporter": "python",
   "pygments_lexer": "ipython3",
   "version": "3.13.5"
  }
 },
 "nbformat": 4,
 "nbformat_minor": 5
}
